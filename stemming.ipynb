{
 "cells": [
  {
   "cell_type": "code",
   "execution_count": 29,
   "id": "703bec33-f9f5-4f4e-a994-d10ab8628aac",
   "metadata": {},
   "outputs": [],
   "source": [
    "import nltk\n",
    "\n",
    "from nltk.stem.porter import PorterStemmer"
   ]
  },
  {
   "cell_type": "code",
   "execution_count": 31,
   "id": "2fab8e11-ae50-463f-a8b8-227fae3fab57",
   "metadata": {},
   "outputs": [],
   "source": [
    "p_stemmer=PorterStemmer()"
   ]
  },
  {
   "cell_type": "code",
   "execution_count": 33,
   "id": "61b59fc5-d192-403b-b9f4-d9dd3f10332c",
   "metadata": {},
   "outputs": [],
   "source": [
    "words=['run','runner', 'running', 'ran','runs','easily','fairly'] "
   ]
  },
  {
   "cell_type": "code",
   "execution_count": 35,
   "id": "03a2a99c-a1ea-4e2b-a861-636ae5788a03",
   "metadata": {},
   "outputs": [
    {
     "name": "stdout",
     "output_type": "stream",
     "text": [
      "run --> run\n",
      "runner --> runner\n",
      "running --> run\n",
      "ran --> ran\n",
      "runs --> run\n",
      "easily --> easili\n",
      "fairly --> fairli\n"
     ]
    }
   ],
   "source": [
    "for word in words:\n",
    "    print(word+' --> '+p_stemmer.stem(word))"
   ]
  },
  {
   "cell_type": "code",
   "execution_count": 37,
   "id": "51cd7cc1-818c-4cc9-9317-3182bf964ad6",
   "metadata": {},
   "outputs": [],
   "source": [
    "from nltk.stem.snowball import SnowballStemmer\n",
    "s_stemmer= SnowballStemmer(language='english')"
   ]
  },
  {
   "cell_type": "code",
   "execution_count": 39,
   "id": "02865c2a-b01c-4aff-8f2e-0bd978151022",
   "metadata": {},
   "outputs": [],
   "source": [
    "words=['generous','generation','generously','generate']"
   ]
  },
  {
   "cell_type": "code",
   "execution_count": 41,
   "id": "d8b027fc-bf1f-4a9d-a7fa-dec2dc62195d",
   "metadata": {},
   "outputs": [
    {
     "name": "stdout",
     "output_type": "stream",
     "text": [
      "generous-->generous\n",
      "generation-->generat\n",
      "generously-->generous\n",
      "generate-->generat\n"
     ]
    }
   ],
   "source": [
    "for word in words:\n",
    "    print(word+'-->'+s_stemmer.stem(word))"
   ]
  },
  {
   "cell_type": "code",
   "execution_count": 43,
   "id": "42dbc196-ab46-4e97-b2f3-ad808c0df359",
   "metadata": {},
   "outputs": [],
   "source": [
    "words = ['consolingly']"
   ]
  },
  {
   "cell_type": "code",
   "execution_count": 45,
   "id": "cd0ca622-7db4-4587-bd01-5933c9915598",
   "metadata": {},
   "outputs": [
    {
     "name": "stdout",
     "output_type": "stream",
     "text": [
      "Porter Stemmer:\n",
      "consolingly --> consolingli\n"
     ]
    }
   ],
   "source": [
    "print('Porter Stemmer:')\n",
    "for word in words:\n",
    "    print(word+' --> '+p_stemmer.stem(word))"
   ]
  },
  {
   "cell_type": "code",
   "execution_count": 49,
   "id": "66648cb5-1a7b-438e-9158-6f71b77b1c19",
   "metadata": {},
   "outputs": [
    {
     "name": "stdout",
     "output_type": "stream",
     "text": [
      "snowball stemmer:\n",
      "consolingly --> consol\n"
     ]
    }
   ],
   "source": [
    "print('snowball stemmer:')\n",
    "for word in words:\n",
    "    print(word+' --> '+s_stemmer.stem(word))"
   ]
  },
  {
   "cell_type": "code",
   "execution_count": 51,
   "id": "057a6ace-71b3-4c79-84b6-d5c5c8018c2b",
   "metadata": {},
   "outputs": [
    {
     "name": "stdout",
     "output_type": "stream",
     "text": [
      "I -->i\n",
      "am -->am\n",
      "meeting -->meet\n",
      "him -->him\n",
      "tomorrow -->tomorrow\n",
      "at -->at\n",
      "the -->the\n",
      "meeting -->meet\n"
     ]
    }
   ],
   "source": [
    "phrase='I am meeting him tomorrow at the meeting'\n",
    "for word in phrase.split():\n",
    "    print(word+' -->'+p_stemmer.stem(word))"
   ]
  },
  {
   "cell_type": "code",
   "execution_count": null,
   "id": "de0b75dc-760c-43f8-9857-49a53318802f",
   "metadata": {},
   "outputs": [],
   "source": []
  }
 ],
 "metadata": {
  "kernelspec": {
   "display_name": "Python 3 (ipykernel)",
   "language": "python",
   "name": "python3"
  },
  "language_info": {
   "codemirror_mode": {
    "name": "ipython",
    "version": 3
   },
   "file_extension": ".py",
   "mimetype": "text/x-python",
   "name": "python",
   "nbconvert_exporter": "python",
   "pygments_lexer": "ipython3",
   "version": "3.12.4"
  }
 },
 "nbformat": 4,
 "nbformat_minor": 5
}
